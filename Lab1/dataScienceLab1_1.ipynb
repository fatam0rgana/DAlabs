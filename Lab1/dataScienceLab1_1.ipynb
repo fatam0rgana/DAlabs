{
  "nbformat": 4,
  "nbformat_minor": 0,
  "metadata": {
    "colab": {
      "name": "dataScienceLab1_1.ipynb",
      "provenance": [],
      "collapsed_sections": []
    },
    "kernelspec": {
      "name": "python3",
      "display_name": "Python 3"
    },
    "language_info": {
      "name": "python"
    }
  },
  "cells": [
    {
      "cell_type": "code",
      "metadata": {
        "id": "QR_pCaLFW_Z-"
      },
      "source": [
        "import numpy as np\n",
        "import matplotlib.pyplot as plt\n",
        "import matplotlib.ticker as ticker\n",
        "import collections\n",
        "\n",
        "%matplotlib inline"
      ],
      "execution_count": 2,
      "outputs": []
    },
    {
      "cell_type": "code",
      "metadata": {
        "id": "JeznGT6nV4Kn"
      },
      "source": [
        "coords = {}\n",
        "ds_ordered = []\n",
        "ds_ordered_val = []\n",
        "with open('/content/ex1data1.txt', 'r') as dataset:\n",
        "  ds = dataset.read().replace('\\n',',').split(',')\n",
        "  ds_training = ds[:-16]\n",
        "  ds_validating = ds[-16::]"
      ],
      "execution_count": 5,
      "outputs": []
    },
    {
      "cell_type": "code",
      "metadata": {
        "colab": {
          "base_uri": "https://localhost:8080/"
        },
        "id": "Ai5MfoJvV9aP",
        "outputId": "e7cfa4d8-3c96-48e5-8616-116b373253ff"
      },
      "source": [
        "print(len(ds_training))\n",
        "\n",
        "for elem in ds_training[::2]:\n",
        "  coords[float(elem)] = float(ds_training[ds_training.index(elem)+1])\n",
        "for key in sorted(coords):\n",
        "  ds_ordered.append([key, coords[key]])\n",
        "coords.clear()\n",
        "\n",
        "for elem in ds_validating[::2]:\n",
        "  coords[float(elem)] = float(ds_validating[ds_validating.index(elem)+1])\n",
        "for key in sorted(coords):\n",
        "  ds_ordered_val.append([key, coords[key]])\n",
        "print(ds_ordered_val)\n",
        "\n",
        "x = [elem[0] for elem in ds_ordered] \n",
        "y = [elem[1] for elem in ds_ordered] \n",
        "x_val = [elem[0] for elem in ds_ordered_val]\n",
        "y_val = [elem[1] for elem in ds_ordered_val]\n",
        "m = len(y)\n",
        "m_val = len(y_val)\n",
        "theta_begin = np.zeros(2)\n"
      ],
      "execution_count": 6,
      "outputs": [
        {
          "output_type": "stream",
          "name": "stdout",
          "text": [
            "178\n",
            "[[5.0594, 2.8214], [5.3054, 1.9869], [5.4369, 0.61705], [5.7077, 1.8451], [5.8707, 7.2029], [7.6366, 4.2959], [8.2934, 0.14454], [13.394, 9.0551]]\n"
          ]
        }
      ]
    },
    {
      "cell_type": "code",
      "metadata": {
        "id": "sU9bOCSYVwjt"
      },
      "source": [
        "def plot(x_ax, y_ax, arg, legend):\n",
        "  fig = plt.figure()\n",
        "  plt.plot(x_ax, y_ax, arg, ms=10, mec='k')\n",
        "  plt.ylabel(legend[0])\n",
        "  plt.xlabel(legend[1])   \n",
        "  plt.show()"
      ],
      "execution_count": 7,
      "outputs": []
    },
    {
      "cell_type": "code",
      "metadata": {
        "colab": {
          "base_uri": "https://localhost:8080/"
        },
        "id": "z-qXAf3WUmgG",
        "outputId": "9e5d255a-4041-4537-c1e6-3ff64771fb28"
      },
      "source": [
        "X = np.stack([np.ones(m), x], axis=1)\n",
        "print(X)"
      ],
      "execution_count": 8,
      "outputs": [
        {
          "output_type": "stream",
          "name": "stdout",
          "text": [
            "[[ 1.      5.0269]\n",
            " [ 1.      5.0365]\n",
            " [ 1.      5.0546]\n",
            " [ 1.      5.0702]\n",
            " [ 1.      5.1077]\n",
            " [ 1.      5.1301]\n",
            " [ 1.      5.1793]\n",
            " [ 1.      5.1884]\n",
            " [ 1.      5.2524]\n",
            " [ 1.      5.3077]\n",
            " [ 1.      5.3794]\n",
            " [ 1.      5.4069]\n",
            " [ 1.      5.4901]\n",
            " [ 1.      5.4994]\n",
            " [ 1.      5.5204]\n",
            " [ 1.      5.5277]\n",
            " [ 1.      5.5416]\n",
            " [ 1.      5.5649]\n",
            " [ 1.      5.6063]\n",
            " [ 1.      5.6397]\n",
            " [ 1.      5.6407]\n",
            " [ 1.      5.7107]\n",
            " [ 1.      5.7292]\n",
            " [ 1.      5.734 ]\n",
            " [ 1.      5.7737]\n",
            " [ 1.      5.8014]\n",
            " [ 1.      5.8598]\n",
            " [ 1.      5.8918]\n",
            " [ 1.      6.002 ]\n",
            " [ 1.      6.0062]\n",
            " [ 1.      6.1101]\n",
            " [ 1.      6.1891]\n",
            " [ 1.      6.2742]\n",
            " [ 1.      6.3261]\n",
            " [ 1.      6.3328]\n",
            " [ 1.      6.3534]\n",
            " [ 1.      6.3557]\n",
            " [ 1.      6.3589]\n",
            " [ 1.      6.3654]\n",
            " [ 1.      6.4296]\n",
            " [ 1.      6.4862]\n",
            " [ 1.      6.5159]\n",
            " [ 1.      6.5479]\n",
            " [ 1.      6.5894]\n",
            " [ 1.      6.8825]\n",
            " [ 1.      7.0032]\n",
            " [ 1.      7.0708]\n",
            " [ 1.      7.0931]\n",
            " [ 1.      7.2182]\n",
            " [ 1.      7.2259]\n",
            " [ 1.      7.3345]\n",
            " [ 1.      7.4239]\n",
            " [ 1.      7.4764]\n",
            " [ 1.      7.5386]\n",
            " [ 1.      7.5402]\n",
            " [ 1.      7.6031]\n",
            " [ 1.      7.8247]\n",
            " [ 1.      7.9334]\n",
            " [ 1.      8.0959]\n",
            " [ 1.      8.2111]\n",
            " [ 1.      8.2951]\n",
            " [ 1.      8.3829]\n",
            " [ 1.      8.4084]\n",
            " [ 1.      8.5172]\n",
            " [ 1.      8.5186]\n",
            " [ 1.      8.5781]\n",
            " [ 1.      8.8254]\n",
            " [ 1.      9.1802]\n",
            " [ 1.      9.2482]\n",
            " [ 1.      9.3102]\n",
            " [ 1.      9.4536]\n",
            " [ 1.      9.7687]\n",
            " [ 1.     10.136 ]\n",
            " [ 1.     10.236 ]\n",
            " [ 1.     10.274 ]\n",
            " [ 1.     10.957 ]\n",
            " [ 1.     11.7   ]\n",
            " [ 1.     11.708 ]\n",
            " [ 1.     12.828 ]\n",
            " [ 1.     12.836 ]\n",
            " [ 1.     13.176 ]\n",
            " [ 1.     14.164 ]\n",
            " [ 1.     14.908 ]\n",
            " [ 1.     18.945 ]\n",
            " [ 1.     18.959 ]\n",
            " [ 1.     20.27  ]\n",
            " [ 1.     20.341 ]\n",
            " [ 1.     21.279 ]\n",
            " [ 1.     22.203 ]]\n"
          ]
        }
      ]
    },
    {
      "cell_type": "code",
      "metadata": {
        "id": "D9HDRtEJVJk5"
      },
      "source": [
        "def cost(x_ax, y_ax, theta):\n",
        "  j = 0\n",
        "  j = 1/(2*m)*np.sum(np.square(np.dot(x_ax, theta) - y_ax))\n",
        "  return j"
      ],
      "execution_count": 9,
      "outputs": []
    },
    {
      "cell_type": "code",
      "metadata": {
        "colab": {
          "base_uri": "https://localhost:8080/",
          "height": 559
        },
        "id": "erQxmxscYUuI",
        "outputId": "8a8773d9-69ab-4ff8-883a-68541d003132"
      },
      "source": [
        "def gradient(x_ax, y_ax, theta, alpha, iterations):\n",
        "  theta = theta_begin.copy()\n",
        "  j_his = []\n",
        "  for i in range(iterations):\n",
        "    theta = theta - alpha / m * (np.dot(x_ax, theta) - y_ax).dot(x_ax)\n",
        "    j_his.append(cost(x_ax, y_ax, theta))\n",
        "  return j_his, theta\n",
        "\n",
        "cost(X, y, theta_begin)\n",
        "J_history, theta_end = gradient(X ,y, theta_begin, 0.01, 1500)\n",
        "print('Final theta = ', theta_end)\n",
        "\n",
        "plot(x, y, 'ro', ['Profit', 'Population of city'])\n",
        "plot(x, np.dot(X, theta_end), 'b-', ['Profit', 'Population of city'])"
      ],
      "execution_count": 10,
      "outputs": [
        {
          "output_type": "stream",
          "name": "stdout",
          "text": [
            "Final theta =  [-3.64920394  1.18043187]\n"
          ]
        },
        {
          "output_type": "display_data",
          "data": {
            "image/png": "[encoded data removed]",
            "text/plain": [
              "<Figure size 432x288 with 1 Axes>"
            ]
          },
          "metadata": {
            "needs_background": "light"
          }
        },
        {
          "output_type": "display_data",
          "data": {
            "image/png": "[encoded data removed]",
            "text/plain": [
              "<Figure size 432x288 with 1 Axes>"
            ]
          },
          "metadata": {
            "needs_background": "light"
          }
        }
      ]
    },
    {
      "cell_type": "code",
      "metadata": {
        "colab": {
          "base_uri": "https://localhost:8080/"
        },
        "id": "LAA8FxOJd7d1",
        "outputId": "23bf1faf-31c4-4f90-c5bf-f77e03a9bed6"
      },
      "source": [
        "def validator(x_ax, y_ax, theta):\n",
        "  X_val = np.stack([np.ones(m_val), x_val], axis=1)\n",
        "  y_end = np.dot(X_val,theta)\n",
        "  for i in range(m_val):\n",
        "    print('x = ', x_ax[i], 'y = ', y_end[i], 'estimated y = ', y_ax[i])\n",
        "\n",
        "validator(x_val, y_val, theta_end)"
      ],
      "execution_count": 11,
      "outputs": [
        {
          "output_type": "stream",
          "name": "stdout",
          "text": [
            "x =  5.0594 y =  2.323073034752291 estimated y =  2.8214\n",
            "x =  5.3054 y =  2.6134592736218214 estimated y =  1.9869\n",
            "x =  5.4369 y =  2.768686063911835 estimated y =  0.61705\n",
            "x =  5.7077 y =  3.088347013041384 estimated y =  1.8451\n",
            "x =  5.8707 y =  3.2807574070890815 estimated y =  7.2029\n",
            "x =  7.6366 y =  5.365282038063489 estimated y =  4.2959\n",
            "x =  8.2934 y =  6.140589687207829 estimated y =  0.14454\n",
            "x =  13.394 y =  12.16150045947583 estimated y =  9.0551\n"
          ]
        }
      ]
    }
  ]
}