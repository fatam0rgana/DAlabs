{
  "nbformat": 4,
  "nbformat_minor": 0,
  "metadata": {
    "colab": {
      "name": "dataScienceLab1_2.ipynb",
      "provenance": []
    },
    "kernelspec": {
      "name": "python3",
      "display_name": "Python 3"
    },
    "language_info": {
      "name": "python"
    }
  },
  "cells": [
    {
      "cell_type": "code",
      "metadata": {
        "id": "Ea-U8aZIxftR",
        "colab": {
          "base_uri": "https://localhost:8080/"
        },
        "outputId": "374617b6-31d1-4608-f8c8-5261e394394c"
      },
      "source": [
        "!pip install utils\n",
        "import numpy as np\n",
        "import matplotlib.pyplot as plt\n",
        "import collections\n",
        "import utils\n",
        "from scipy import optimize\n",
        "%matplotlib inline"
      ],
      "execution_count": 20,
      "outputs": [
        {
          "output_type": "stream",
          "name": "stdout",
          "text": [
            "Requirement already satisfied: utils in /usr/local/lib/python3.7/dist-packages (1.0.1)\n"
          ]
        }
      ]
    },
    {
      "cell_type": "code",
      "metadata": {
        "id": "P--PnToixkj3"
      },
      "source": [
        "with open('/content/ex2data2.txt', 'r') as dataset:\n",
        "  ds = np.loadtxt(dataset, delimiter=',')\n",
        "\n",
        "X, y = ds[:, 0:2], ds[:, 2]\n",
        "m = y.size"
      ],
      "execution_count": 21,
      "outputs": []
    },
    {
      "cell_type": "code",
      "metadata": {
        "colab": {
          "base_uri": "https://localhost:8080/",
          "height": 265
        },
        "id": "NVcxUDgn1yMr",
        "outputId": "a809d901-53fe-483a-c4fe-0822aac991e6"
      },
      "source": [
        "\n",
        "x_pos = []\n",
        "x_neg = []\n",
        "fig = plt.figure()\n",
        "for i in range(len(y)):\n",
        "  if y[i]==0:\n",
        "    x_neg.append(X[i])\n",
        "  else:\n",
        "    x_pos.append(X[i])\n",
        "for i in x_pos:\n",
        "  plt.plot(i[0], i[1], 'k*')\n",
        "for j in x_neg:\n",
        "  plt.plot(j[0], j[1], 'ko', mfc='y')\n"
      ],
      "execution_count": 22,
      "outputs": [
        {
          "output_type": "display_data",
          "data": {
            "image/png": "[encoded data removed]",
            "text/plain": [
              "<Figure size 432x288 with 1 Axes>"
            ]
          },
          "metadata": {
            "needs_background": "light"
          }
        }
      ]
    },
    {
      "cell_type": "code",
      "metadata": {
        "id": "1VHXzR1nye6j"
      },
      "source": [
        "def sigmoid(z):\n",
        "  z = np.array(z)\n",
        "  g = np.zeros(np.shape(z))\n",
        "  g = 1/(1+(np.exp(-z)))\n",
        "  return g"
      ],
      "execution_count": 23,
      "outputs": []
    },
    {
      "cell_type": "code",
      "metadata": {
        "colab": {
          "base_uri": "https://localhost:8080/"
        },
        "id": "uyk2vtG5nrVQ",
        "outputId": "51ef6ebc-28b9-4e18-c86c-3094374c80e5"
      },
      "source": [
        "def map_feature(x1, x2, degree =6):\n",
        "    if x1.ndim > 0:\n",
        "        out = [np.ones(x1.shape[0])]\n",
        "    else:\n",
        "        out = [np.ones(1)]\n",
        "\n",
        "    for i in range(1, degree + 1):\n",
        "        for j in range(i + 1):\n",
        "            out.append((x1 ** (i - j)) * (x2 ** j))\n",
        "\n",
        "    if x1.ndim > 0:\n",
        "        return np.stack(out, axis=1)\n",
        "    else:\n",
        "        return np.array(out)\n",
        "\n",
        "X = map_feature(X[:, 0], X[:, 1])\n",
        "print(X)\n"
      ],
      "execution_count": 24,
      "outputs": [
        {
          "output_type": "stream",
          "name": "stdout",
          "text": [
            "[[ 1.00000000e+00  5.12670000e-02  6.99560000e-01 ...  6.29470940e-04\n",
            "   8.58939846e-03  1.17205992e-01]\n",
            " [ 1.00000000e+00 -9.27420000e-02  6.84940000e-01 ...  1.89305413e-03\n",
            "  -1.39810280e-02  1.03255971e-01]\n",
            " [ 1.00000000e+00 -2.13710000e-01  6.92250000e-01 ...  1.04882142e-02\n",
            "  -3.39734512e-02  1.10046893e-01]\n",
            " ...\n",
            " [ 1.00000000e+00 -4.84450000e-01  9.99270000e-01 ...  2.34007252e-01\n",
            "  -4.82684337e-01  9.95627986e-01]\n",
            " [ 1.00000000e+00 -6.33640000e-03  9.99270000e-01 ...  4.00328554e-05\n",
            "  -6.31330588e-03  9.95627986e-01]\n",
            " [ 1.00000000e+00  6.32650000e-01 -3.06120000e-02 ...  3.51474517e-07\n",
            "  -1.70067777e-08  8.22905998e-10]]\n"
          ]
        }
      ]
    },
    {
      "cell_type": "code",
      "metadata": {
        "id": "NEud6V0c8vCd"
      },
      "source": [
        "def costFunc(theta,x1,y1,lambda1):\n",
        "  J = 0\n",
        "  grad = np.zeros(theta.shape)\n",
        "  h = sigmoid(X.dot(theta.T))\n",
        "    \n",
        "  temp = theta\n",
        "  temp[0] = 0\n",
        "    \n",
        "  J = (1 / m) * np.sum(-y.dot(np.log(h)) - (1 - y).dot(np.log(1 - h))) + (lambda1 / (2 * m)) * np.sum(np.square(temp))\n",
        "    \n",
        "  grad = (1 / m) * (h - y).dot(X) \n",
        "  grad = grad + (lambda1 / m) * temp\n",
        "    \n",
        "    # =============================================================\n",
        "  return J, grad"
      ],
      "execution_count": 25,
      "outputs": []
    },
    {
      "cell_type": "code",
      "metadata": {
        "id": "OsBd1y6mHtRw"
      },
      "source": [
        "def predict(theta,x):\n",
        "  n = X.shape[0]\n",
        "  p = np.zeros(n)\n",
        "  p = np.round(sigmoid(X.dot(theta.T)))\n",
        "  return p"
      ],
      "execution_count": 26,
      "outputs": []
    },
    {
      "cell_type": "code",
      "metadata": {
        "id": "RRalXwPeGHA-"
      },
      "source": [
        "initial_theta = np.zeros(X.shape[1])\n",
        "cost, grad = costFunc(initial_theta, X, y, 1)\n",
        "\n",
        "test_theta = np.ones(X.shape[1])\n",
        "cost, grad = costFunc(test_theta, X, y, 10)\n"
      ],
      "execution_count": 27,
      "outputs": []
    },
    {
      "cell_type": "code",
      "metadata": {
        "colab": {
          "base_uri": "https://localhost:8080/",
          "height": 1000
        },
        "id": "uGzRpGtCG3w-",
        "outputId": "734850f4-064a-401d-e363-b572e61c1371"
      },
      "source": [
        "initial_theta = np.zeros(X.shape[1])\n",
        "lambda_ = 1.00\n",
        "\n",
        "# set options for optimize.minimize\n",
        "options= {'maxiter': 100}\n",
        "\n",
        "res = optimize.minimize(costFunc,\n",
        "                        initial_theta,\n",
        "                        (X, y, lambda_),\n",
        "                        jac=True,\n",
        "                        method='CG',\n",
        "                        options=options)\n",
        "\n",
        "# the fun property of OptimizeResult object returns\n",
        "# the value of costFunction at optimized theta\n",
        "cost = res.fun\n",
        "\n",
        "# the optimized theta is in the x property of the result\n",
        "theta = res.x\n",
        "\n",
        "#utils.plotDecisionBoundary(plotData, theta, X, y)\n",
        "fig = plt.figure()\n",
        "for i in x_pos:\n",
        "  plt.plot(i[0], i[1], 'k*')\n",
        "for j in x_neg:\n",
        "  plt.plot(j[0], j[1], 'ko', mfc='y')\n",
        "plt.plot(theta)\n",
        "plt.xlabel('Microchip Test 1')\n",
        "plt.ylabel('Microchip Test 2')\n",
        "plt.legend(['y = 1', 'y = 0'])\n",
        "plt.grid(False)\n",
        "plt.title('lambda = %0.2f' % lambda_)\n",
        "\n",
        "# Compute accuracy on our training set\n",
        "p = predict(theta, X)\n",
        "for i in range(len(y)):\n",
        "  print('expected y value = ', y[i], '; predicted y value = ',p[i], ' with probability ', sigmoid(X.dot(theta.T))[i])\n",
        "print('Train Accuracy: %.1f %%' % (np.mean(p == y) * 100))\n",
        "print('Expected accuracy (with lambda = 1): 83.1 % (approx)\\n')"
      ],
      "execution_count": 28,
      "outputs": [
        {
          "output_type": "stream",
          "name": "stdout",
          "text": [
            "expected y value =  1.0 ; predicted y value =  1.0  with probability  0.6987093209184723\n",
            "expected y value =  1.0 ; predicted y value =  1.0  with probability  0.7181821447750377\n",
            "expected y value =  1.0 ; predicted y value =  1.0  with probability  0.6997832974806816\n",
            "expected y value =  1.0 ; predicted y value =  1.0  with probability  0.7297676383499574\n",
            "expected y value =  1.0 ; predicted y value =  1.0  with probability  0.6504646638821235\n",
            "expected y value =  1.0 ; predicted y value =  1.0  with probability  0.6241151165790741\n",
            "expected y value =  1.0 ; predicted y value =  1.0  with probability  0.6697397212419796\n",
            "expected y value =  1.0 ; predicted y value =  1.0  with probability  0.6340936946734379\n",
            "expected y value =  1.0 ; predicted y value =  1.0  with probability  0.6358061938864892\n",
            "expected y value =  1.0 ; predicted y value =  1.0  with probability  0.5813005981366302\n",
            "expected y value =  1.0 ; predicted y value =  1.0  with probability  0.5340491371745852\n",
            "expected y value =  1.0 ; predicted y value =  1.0  with probability  0.516934134505712\n",
            "expected y value =  1.0 ; predicted y value =  1.0  with probability  0.5812115960848144\n",
            "expected y value =  1.0 ; predicted y value =  0.0  with probability  0.4808127138362424\n",
            "expected y value =  1.0 ; predicted y value =  1.0  with probability  0.630013920161748\n",
            "expected y value =  1.0 ; predicted y value =  1.0  with probability  0.7139513191515369\n",
            "expected y value =  1.0 ; predicted y value =  1.0  with probability  0.7764654128778284\n",
            "expected y value =  1.0 ; predicted y value =  1.0  with probability  0.560524849593357\n",
            "expected y value =  1.0 ; predicted y value =  1.0  with probability  0.7003995354385657\n",
            "expected y value =  1.0 ; predicted y value =  1.0  with probability  0.6242964751946689\n",
            "expected y value =  1.0 ; predicted y value =  1.0  with probability  0.5204487772246285\n",
            "expected y value =  1.0 ; predicted y value =  1.0  with probability  0.5319023392162103\n",
            "expected y value =  1.0 ; predicted y value =  0.0  with probability  0.4904282517447522\n",
            "expected y value =  1.0 ; predicted y value =  1.0  with probability  0.5192558717275632\n",
            "expected y value =  1.0 ; predicted y value =  1.0  with probability  0.6045366138080218\n",
            "expected y value =  1.0 ; predicted y value =  1.0  with probability  0.5131924359820527\n",
            "expected y value =  1.0 ; predicted y value =  1.0  with probability  0.5345879109822909\n",
            "expected y value =  1.0 ; predicted y value =  0.0  with probability  0.3939593889042063\n",
            "expected y value =  1.0 ; predicted y value =  1.0  with probability  0.780625813250997\n",
            "expected y value =  1.0 ; predicted y value =  1.0  with probability  0.5896478464533274\n",
            "expected y value =  1.0 ; predicted y value =  0.0  with probability  0.2411477798072008\n",
            "expected y value =  1.0 ; predicted y value =  1.0  with probability  0.5852193324629278\n",
            "expected y value =  1.0 ; predicted y value =  1.0  with probability  0.7352013292546531\n",
            "expected y value =  1.0 ; predicted y value =  1.0  with probability  0.7669046995832156\n",
            "expected y value =  1.0 ; predicted y value =  1.0  with probability  0.741215832286773\n",
            "expected y value =  1.0 ; predicted y value =  1.0  with probability  0.716095851189633\n",
            "expected y value =  1.0 ; predicted y value =  1.0  with probability  0.6560201230433916\n",
            "expected y value =  1.0 ; predicted y value =  1.0  with probability  0.7204625145372922\n",
            "expected y value =  1.0 ; predicted y value =  1.0  with probability  0.7469394630416619\n",
            "expected y value =  1.0 ; predicted y value =  1.0  with probability  0.6538646043955997\n",
            "expected y value =  1.0 ; predicted y value =  1.0  with probability  0.7289304846733942\n",
            "expected y value =  1.0 ; predicted y value =  1.0  with probability  0.6985630921424588\n",
            "expected y value =  1.0 ; predicted y value =  1.0  with probability  0.6040078608271051\n",
            "expected y value =  1.0 ; predicted y value =  1.0  with probability  0.7450389971335016\n",
            "expected y value =  1.0 ; predicted y value =  1.0  with probability  0.6462026354627125\n",
            "expected y value =  1.0 ; predicted y value =  1.0  with probability  0.6805732042537035\n",
            "expected y value =  1.0 ; predicted y value =  0.0  with probability  0.42083575763136094\n",
            "expected y value =  1.0 ; predicted y value =  1.0  with probability  0.7711898307426729\n",
            "expected y value =  1.0 ; predicted y value =  1.0  with probability  0.560667821497062\n",
            "expected y value =  1.0 ; predicted y value =  1.0  with probability  0.6175811891484686\n",
            "expected y value =  1.0 ; predicted y value =  1.0  with probability  0.7664033077176687\n",
            "expected y value =  1.0 ; predicted y value =  1.0  with probability  0.8122524042418672\n",
            "expected y value =  1.0 ; predicted y value =  1.0  with probability  0.7826844931346457\n",
            "expected y value =  1.0 ; predicted y value =  1.0  with probability  0.7908810564479349\n",
            "expected y value =  1.0 ; predicted y value =  1.0  with probability  0.7760944788131948\n",
            "expected y value =  1.0 ; predicted y value =  1.0  with probability  0.6900680832971072\n",
            "expected y value =  1.0 ; predicted y value =  1.0  with probability  0.7330382005268937\n",
            "expected y value =  1.0 ; predicted y value =  1.0  with probability  0.6647048999581939\n",
            "expected y value =  0.0 ; predicted y value =  0.0  with probability  0.23645732484532045\n",
            "expected y value =  0.0 ; predicted y value =  1.0  with probability  0.543711309754516\n",
            "expected y value =  0.0 ; predicted y value =  1.0  with probability  0.6984053961604331\n",
            "expected y value =  0.0 ; predicted y value =  0.0  with probability  0.3649620826772145\n",
            "expected y value =  0.0 ; predicted y value =  0.0  with probability  0.2843840546033791\n",
            "expected y value =  0.0 ; predicted y value =  0.0  with probability  0.47423411255909326\n",
            "expected y value =  0.0 ; predicted y value =  0.0  with probability  0.30636763597164707\n",
            "expected y value =  0.0 ; predicted y value =  0.0  with probability  0.10455113044480327\n",
            "expected y value =  0.0 ; predicted y value =  0.0  with probability  0.31486205043714016\n",
            "expected y value =  0.0 ; predicted y value =  0.0  with probability  0.10049938648928564\n",
            "expected y value =  0.0 ; predicted y value =  0.0  with probability  0.13724473757699748\n",
            "expected y value =  0.0 ; predicted y value =  0.0  with probability  0.27140339623362597\n",
            "expected y value =  0.0 ; predicted y value =  0.0  with probability  0.19369865034207276\n",
            "expected y value =  0.0 ; predicted y value =  0.0  with probability  0.23483142008091232\n",
            "expected y value =  0.0 ; predicted y value =  0.0  with probability  0.20735427795704206\n",
            "expected y value =  0.0 ; predicted y value =  0.0  with probability  0.23392903289503064\n",
            "expected y value =  0.0 ; predicted y value =  0.0  with probability  0.27254099776176494\n",
            "expected y value =  0.0 ; predicted y value =  0.0  with probability  0.46303205738427833\n",
            "expected y value =  0.0 ; predicted y value =  1.0  with probability  0.6118185130654061\n",
            "expected y value =  0.0 ; predicted y value =  1.0  with probability  0.5275559100257738\n",
            "expected y value =  0.0 ; predicted y value =  0.0  with probability  0.32430845458749596\n",
            "expected y value =  0.0 ; predicted y value =  0.0  with probability  0.3269678944364188\n",
            "expected y value =  0.0 ; predicted y value =  1.0  with probability  0.5288661239917098\n",
            "expected y value =  0.0 ; predicted y value =  1.0  with probability  0.5642382902975305\n",
            "expected y value =  0.0 ; predicted y value =  0.0  with probability  0.43811453103920533\n",
            "expected y value =  0.0 ; predicted y value =  1.0  with probability  0.5485708924304328\n",
            "expected y value =  0.0 ; predicted y value =  0.0  with probability  0.18974581528094028\n",
            "expected y value =  0.0 ; predicted y value =  0.0  with probability  0.36593804258509016\n",
            "expected y value =  0.0 ; predicted y value =  0.0  with probability  0.3337543427212709\n",
            "expected y value =  0.0 ; predicted y value =  0.0  with probability  0.33742184491654376\n",
            "expected y value =  0.0 ; predicted y value =  1.0  with probability  0.6208498065481277\n",
            "expected y value =  0.0 ; predicted y value =  0.0  with probability  0.30504623241808965\n",
            "expected y value =  0.0 ; predicted y value =  0.0  with probability  0.2640079941156584\n",
            "expected y value =  0.0 ; predicted y value =  1.0  with probability  0.5095839061244394\n",
            "expected y value =  0.0 ; predicted y value =  1.0  with probability  0.5906166390014213\n",
            "expected y value =  0.0 ; predicted y value =  0.0  with probability  0.31814390596249326\n",
            "expected y value =  0.0 ; predicted y value =  0.0  with probability  0.18092160890228914\n",
            "expected y value =  0.0 ; predicted y value =  0.0  with probability  0.027174181085052516\n",
            "expected y value =  0.0 ; predicted y value =  0.0  with probability  0.016380033013004364\n",
            "expected y value =  0.0 ; predicted y value =  0.0  with probability  0.3435317771756232\n",
            "expected y value =  0.0 ; predicted y value =  0.0  with probability  0.06301472968869463\n",
            "expected y value =  0.0 ; predicted y value =  0.0  with probability  0.09904761225832978\n",
            "expected y value =  0.0 ; predicted y value =  0.0  with probability  0.3234230567369903\n",
            "expected y value =  0.0 ; predicted y value =  0.0  with probability  0.015723937613892874\n",
            "expected y value =  0.0 ; predicted y value =  0.0  with probability  0.4867705237890919\n",
            "expected y value =  0.0 ; predicted y value =  0.0  with probability  0.35180671811520847\n",
            "expected y value =  0.0 ; predicted y value =  1.0  with probability  0.6102015227706961\n",
            "expected y value =  0.0 ; predicted y value =  0.0  with probability  0.44407302741532856\n",
            "expected y value =  0.0 ; predicted y value =  1.0  with probability  0.5554972317856595\n",
            "expected y value =  0.0 ; predicted y value =  1.0  with probability  0.6941990206757576\n",
            "expected y value =  0.0 ; predicted y value =  0.0  with probability  0.4392798393783029\n",
            "expected y value =  0.0 ; predicted y value =  0.0  with probability  0.30609520475418767\n",
            "expected y value =  0.0 ; predicted y value =  0.0  with probability  0.2649604936487009\n",
            "expected y value =  0.0 ; predicted y value =  0.0  with probability  0.2791485812526148\n",
            "expected y value =  0.0 ; predicted y value =  0.0  with probability  0.21008542622749218\n",
            "expected y value =  0.0 ; predicted y value =  0.0  with probability  0.3764592122934742\n",
            "expected y value =  0.0 ; predicted y value =  1.0  with probability  0.5673368210265893\n",
            "expected y value =  0.0 ; predicted y value =  0.0  with probability  0.11679704937232087\n",
            "expected y value =  0.0 ; predicted y value =  0.0  with probability  0.1534855458926488\n",
            "expected y value =  0.0 ; predicted y value =  1.0  with probability  0.6345378009112823\n",
            "Train Accuracy: 83.1 %\n",
            "Expected accuracy (with lambda = 1): 83.1 % (approx)\n",
            "\n"
          ]
        },
        {
          "output_type": "display_data",
          "data": {
            "image/png": "[encoded data removed]",
            "text/plain": [
              "<Figure size 432x288 with 1 Axes>"
            ]
          },
          "metadata": {
            "needs_background": "light"
          }
        }
      ]
    }
  ]
}